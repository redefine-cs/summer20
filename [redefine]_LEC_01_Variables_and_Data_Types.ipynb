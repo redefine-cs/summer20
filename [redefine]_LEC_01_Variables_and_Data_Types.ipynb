{
  "nbformat": 4,
  "nbformat_minor": 0,
  "metadata": {
    "colab": {
      "name": "[redefine] LEC 01: Variables and Data Types",
      "provenance": [],
      "collapsed_sections": [
        "ezYV9zTodoas",
        "CYYm6vWbs916",
        "Tz73xAl9MELs",
        "WtnrWdV1MOm7",
        "_PDAI4WLMTB4",
        "IP5ItkQLNmLn",
        "voPLZ7F7PgyJ",
        "toezGDhCOeB7",
        "UTuZ70G4Pbwv"
      ],
      "include_colab_link": true
    },
    "kernelspec": {
      "name": "python3",
      "display_name": "Python 3"
    }
  },
  "cells": [
    {
      "cell_type": "markdown",
      "metadata": {
        "id": "view-in-github",
        "colab_type": "text"
      },
      "source": [
        "<a href=\"https://colab.research.google.com/github/redefine-cs/summer20/blob/master/%5Bredefine%5D_LEC_01_Variables_and_Data_Types.ipynb\" target=\"_parent\"><img src=\"https://colab.research.google.com/assets/colab-badge.svg\" alt=\"Open In Colab\"/></a>"
      ]
    },
    {
      "cell_type": "markdown",
      "metadata": {
        "id": "ezYV9zTodoas",
        "colab_type": "text"
      },
      "source": [
        "# **LEC 01: Variables and Data Types**\n",
        "\n",
        "*Date released: June 24, 2020*\n",
        "\n",
        "*Authored by: Redefine Course Instructors*\n",
        "\n",
        "*Material adapted from: USVI Coder & AddisCoder from Professor Jelani Nelson*\n",
        "\n",
        "\n",
        "<br>\n",
        "\n",
        "---\n",
        "\n",
        "\n",
        "<br>\n",
        "\n"
      ]
    },
    {
      "cell_type": "markdown",
      "metadata": {
        "id": "CYYm6vWbs916",
        "colab_type": "text"
      },
      "source": [
        "## **Introduction**\n",
        "\n",
        "Welcome to **redefine**! \n",
        "\n",
        "In the next 14 lectures, we will learn how to code! \n",
        "\n",
        "\n"
      ]
    },
    {
      "cell_type": "markdown",
      "metadata": {
        "id": "Tz73xAl9MELs",
        "colab_type": "text"
      },
      "source": [
        "#####*So... what exactly is code?*"
      ]
    },
    {
      "cell_type": "markdown",
      "metadata": {
        "id": "ZT-Kx_5-MibM",
        "colab_type": "text"
      },
      "source": [
        "> Code is essentially a set of instructions you write and give to a computer. So, good news: you're completely in charge and the computer will do exactly what you say! And, bad news: you're completely in charge and the computer will do exactly what you say...\n",
        "\n",
        "\n",
        "\n",
        "> Check out the **cell** below, where you'll find an example of a small **code snippet**. Do not worry if it makes no sense right now! \n",
        "\n"
      ]
    },
    {
      "cell_type": "code",
      "metadata": {
        "id": "hKThnHEUQ10N",
        "colab_type": "code",
        "colab": {}
      },
      "source": [
        "def multiply(a, b):\n",
        "  return a * b \n",
        "\n",
        "a = 5\n",
        "b = 6\n",
        "c = multiply(a, b)\n",
        "\n",
        "print(c)"
      ],
      "execution_count": null,
      "outputs": []
    },
    {
      "cell_type": "markdown",
      "metadata": {
        "id": "WtnrWdV1MOm7",
        "colab_type": "text"
      },
      "source": [
        "#####*Cool! So, how does that work?* "
      ]
    },
    {
      "cell_type": "markdown",
      "metadata": {
        "id": "FEBhhw4EMq4R",
        "colab_type": "text"
      },
      "source": [
        "> Well, to get a little bit technical, computers only understand **binary** (which is a bunch of 0s and 1s). In fact, when programming was first created, that's exactly how computer scientists wrote code. Basically, that code might look something like this: 1000 1011 1110 1000 1010 1101 0101 0110 1010. "
      ]
    },
    {
      "cell_type": "markdown",
      "metadata": {
        "id": "_PDAI4WLMTB4",
        "colab_type": "text"
      },
      "source": [
        "#####*I'm going to have to spend 7 weeks just writing 0s and 1s?! I didn't sign up for this!*"
      ]
    },
    {
      "cell_type": "markdown",
      "metadata": {
        "id": "ZC2XwHV0M8Ix",
        "colab_type": "text"
      },
      "source": [
        "> I don't know about you, but that does not look very fun to me! So, computer scientists decided to create programming languages that humans could understand. These languages help reduce the complexity of writing code so that we don't need to worry about every single little detail. This concept is known as **abstraction**. \n"
      ]
    },
    {
      "cell_type": "markdown",
      "metadata": {
        "id": "IP5ItkQLNmLn",
        "colab_type": "text"
      },
      "source": [
        "#####*Hmm... but what's this Python thing you keep talking about?*"
      ]
    },
    {
      "cell_type": "markdown",
      "metadata": {
        "id": "C9KamvyLOHKP",
        "colab_type": "text"
      },
      "source": [
        "> Just the same way that there are so many human languages, there are also many programming languages (such as HTML/CSS, JavaScript, Haskell, C++, and so many more). In this course, we're going to focus on learning one of these languages: **Python**. After you master your Python fundamentals, though, you should be able to learn any other programming language very quickly!\n"
      ]
    },
    {
      "cell_type": "markdown",
      "metadata": {
        "id": "voPLZ7F7PgyJ",
        "colab_type": "text"
      },
      "source": [
        "##### *I'm bored! Can we PLEASE just write some code?* \n"
      ]
    },
    {
      "cell_type": "markdown",
      "metadata": {
        "id": "NrF73M0lQPu9",
        "colab_type": "text"
      },
      "source": [
        "\n",
        "> Yes!!! Okay, *almost*. First, we need to cover **comments**.\n"
      ]
    },
    {
      "cell_type": "markdown",
      "metadata": {
        "id": "toezGDhCOeB7",
        "colab_type": "text"
      },
      "source": [
        "### **Comments**\n",
        "\n"
      ]
    },
    {
      "cell_type": "markdown",
      "metadata": {
        "id": "MXfvHP_AsrwP",
        "colab_type": "text"
      },
      "source": [
        "Normally, your computer will follow whatever code you write - except these comments.\n",
        "\n",
        "Anything you write after the 'hashtag' symbol (#) are notes for yourself, your friends, or your instructors!\n",
        "\n",
        "Comments are also used to describe pieces of code or temporarily remove part of the code to test something out.\n",
        "\n",
        "```\n",
        "# this is a comment! \n",
        "```\n"
      ]
    },
    {
      "cell_type": "code",
      "metadata": {
        "id": "YjVufQM3csKp",
        "colab_type": "code",
        "colab": {}
      },
      "source": [
        "Hmm... I wonder how to make this line a comment..."
      ],
      "execution_count": null,
      "outputs": []
    },
    {
      "cell_type": "code",
      "metadata": {
        "id": "JwLfbH0Npf53",
        "colab_type": "code",
        "colab": {}
      },
      "source": [
        "# some code to multiply two numbers\n",
        "def multiply(a, b):\n",
        "  return a * b \n",
        "\n",
        "# TODO: fix the code to divide two numbers\n",
        "# def divide(a, b): \n",
        "#   return a - b"
      ],
      "execution_count": null,
      "outputs": []
    },
    {
      "cell_type": "markdown",
      "metadata": {
        "id": "_GamFREiuunL",
        "colab_type": "text"
      },
      "source": [
        "<img src=\"https://miro.medium.com/max/1920/0*z1mm6izqSeDiKukb\" height=\"250px\">\n",
        "\n",
        "\n"
      ]
    },
    {
      "cell_type": "markdown",
      "metadata": {
        "id": "UTuZ70G4Pbwv",
        "colab_type": "text"
      },
      "source": [
        "### **Code**"
      ]
    },
    {
      "cell_type": "code",
      "metadata": {
        "id": "Ks6w514cPjqk",
        "colab_type": "code",
        "colab": {
          "base_uri": "https://localhost:8080/",
          "height": 34
        },
        "outputId": "53c76bc8-93f5-42d3-fbc2-0c4a3145e974"
      },
      "source": [
        "# a simple line of code\n",
        "print(\"Hello World!\")"
      ],
      "execution_count": null,
      "outputs": [
        {
          "output_type": "stream",
          "text": [
            "Hello World!\n"
          ],
          "name": "stdout"
        }
      ]
    },
    {
      "cell_type": "code",
      "metadata": {
        "id": "CZfZoWubPrJb",
        "colab_type": "code",
        "colab": {
          "base_uri": "https://localhost:8080/",
          "height": 34
        },
        "outputId": "3776334a-f41a-4ca0-dca6-15d395441954"
      },
      "source": [
        "3*4"
      ],
      "execution_count": null,
      "outputs": [
        {
          "output_type": "execute_result",
          "data": {
            "text/plain": [
              "12"
            ]
          },
          "metadata": {
            "tags": []
          },
          "execution_count": 14
        }
      ]
    },
    {
      "cell_type": "code",
      "metadata": {
        "id": "dMARX2LSsEkK",
        "colab_type": "code",
        "colab": {
          "base_uri": "https://localhost:8080/",
          "height": 34
        },
        "outputId": "0f3c34ce-8cfd-413a-ab06-c85a7384c41a"
      },
      "source": [
        "# the cell will print out the last line by default\n",
        "3*4\n",
        "5*6"
      ],
      "execution_count": null,
      "outputs": [
        {
          "output_type": "execute_result",
          "data": {
            "text/plain": [
              "30"
            ]
          },
          "metadata": {
            "tags": []
          },
          "execution_count": 18
        }
      ]
    },
    {
      "cell_type": "markdown",
      "metadata": {
        "colab_type": "text",
        "id": "XmFOZ5upPuwh"
      },
      "source": [
        "## **Data Types**"
      ]
    },
    {
      "cell_type": "markdown",
      "metadata": {
        "id": "3-qQsb5gtN6M",
        "colab_type": "text"
      },
      "source": [
        "**Types** specify which category a piece of data falls in and what the programmer can do with it. "
      ]
    },
    {
      "cell_type": "code",
      "metadata": {
        "id": "iIqr4pqfP36A",
        "colab_type": "code",
        "colab": {}
      },
      "source": [
        "# What data type do you think the number 1 is in Python?  \n",
        "type(1)"
      ],
      "execution_count": null,
      "outputs": []
    },
    {
      "cell_type": "markdown",
      "metadata": {
        "colab_type": "text",
        "id": "WINyPh1aRfzC"
      },
      "source": [
        "#### **Integer**"
      ]
    },
    {
      "cell_type": "code",
      "metadata": {
        "colab_type": "code",
        "id": "y7ZP1EZGRJpu",
        "colab": {}
      },
      "source": [
        "# The 'integer' type is almost the same as you've learnt in math! \n",
        "# ALL positive and negative whole numbers (no decimals though!)"
      ],
      "execution_count": null,
      "outputs": []
    },
    {
      "cell_type": "code",
      "metadata": {
        "colab_type": "code",
        "id": "EhdXA9e_RH2W",
        "colab": {
          "base_uri": "https://localhost:8080/",
          "height": 34
        },
        "outputId": "8f32425c-0e6f-429f-8ea3-00e841285b5e"
      },
      "source": [
        "# \n",
        "type(1)"
      ],
      "execution_count": null,
      "outputs": [
        {
          "output_type": "execute_result",
          "data": {
            "text/plain": [
              "int"
            ]
          },
          "metadata": {
            "tags": []
          },
          "execution_count": 10
        }
      ]
    },
    {
      "cell_type": "code",
      "metadata": {
        "id": "kDfW89Xuv2lx",
        "colab_type": "code",
        "colab": {
          "base_uri": "https://localhost:8080/",
          "height": 232
        },
        "outputId": "30bc16e1-57d6-42c1-bd74-4c5b8bd2c490"
      },
      "source": [
        "type (1)\n",
        "\n",
        "type (-1)\n",
        "\n",
        "type (1.0)\n",
        "\n",
        "type (-1.0)\n",
        "\n",
        "type (True)\n",
        "\n",
        "type (False)\n",
        "\n",
        "type (\"Hello World!\")\n",
        "\n",
        "type (None)\n",
        "\n",
        "# variables\n",
        "\n",
        "# assign\n",
        "x = 1\n",
        "x \n",
        "\n",
        "# type\n",
        "type (x)\n",
        "\n",
        "# reassignment\n",
        "x = 1\n",
        "x = 2\n",
        "x \n",
        "\n",
        "#error\n",
        "a = 2\n",
        "A\n",
        "\n",
        "# name does not matter\n",
        "two = 3\n",
        "two\n",
        "\n",
        "# variable names\n",
        "BaDnAmE = \"Bad variable name!\"\n",
        "good_var_name = \"Good variable name!\"\n",
        "\n",
        "# shift types\n",
        "x = 1 \n",
        "x = \"Hi\"\n",
        "\n",
        "#operations \n",
        "\n"
      ],
      "execution_count": null,
      "outputs": [
        {
          "output_type": "error",
          "ename": "NameError",
          "evalue": "ignored",
          "traceback": [
            "\u001b[0;31m---------------------------------------------------------------------------\u001b[0m",
            "\u001b[0;31mNameError\u001b[0m                                 Traceback (most recent call last)",
            "\u001b[0;32m<ipython-input-5-dcc0a0d7a7b4>\u001b[0m in \u001b[0;36m<module>\u001b[0;34m()\u001b[0m\n\u001b[1;32m     31\u001b[0m \u001b[0;31m#error\u001b[0m\u001b[0;34m\u001b[0m\u001b[0;34m\u001b[0m\u001b[0;34m\u001b[0m\u001b[0m\n\u001b[1;32m     32\u001b[0m \u001b[0ma\u001b[0m \u001b[0;34m=\u001b[0m \u001b[0;36m2\u001b[0m\u001b[0;34m\u001b[0m\u001b[0;34m\u001b[0m\u001b[0m\n\u001b[0;32m---> 33\u001b[0;31m \u001b[0mA\u001b[0m\u001b[0;34m\u001b[0m\u001b[0;34m\u001b[0m\u001b[0m\n\u001b[0m\u001b[1;32m     34\u001b[0m \u001b[0;34m\u001b[0m\u001b[0m\n\u001b[1;32m     35\u001b[0m \u001b[0;31m# name does not matter\u001b[0m\u001b[0;34m\u001b[0m\u001b[0;34m\u001b[0m\u001b[0;34m\u001b[0m\u001b[0m\n",
            "\u001b[0;31mNameError\u001b[0m: name 'A' is not defined"
          ]
        }
      ]
    }
  ]
}